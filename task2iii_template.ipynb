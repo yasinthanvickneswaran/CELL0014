{
 "cells": [
  {
   "cell_type": "code",
   "execution_count": 1,
   "id": "15c53246-f9fb-4930-9f7c-1515accb3239",
   "metadata": {},
   "outputs": [],
   "source": [
    "import numpy as np\n",
    "import matplotlib.pyplot as plt\n",
    "from scipy.integrate import odeint\n",
    "from direction_field_helper import draw_direction_field"
   ]
  },
  {
   "cell_type": "code",
   "execution_count": null,
   "id": "cc7cffcf-d0c6-475b-87a0-1ffa44e9352e",
   "metadata": {},
   "outputs": [],
   "source": [
    "def sdot3(s,t,params):\n",
    "    PL, PT = s\n",
    "    vp0L, vpL, vdpL, KL, nL, vp0T, vpT, vdpT, KT, nT = params\n",
    "\n",
    "    rate_PL_prod =  \n",
    "    rate_PL_loss =  \n",
    "\n",
    "    rate_PT_prod = \n",
    "    rate_PT_loss = \n",
    "        \n",
    "    dPL = rate_PL_prod - rate_PL_loss\n",
    "    dPT = rate_PT_prod - rate_PT_loss\n",
    "    \n",
    "    ds = [dPL, dPT]\n",
    "    return ds\n",
    "\n",
    "# define parameter values\n",
    "vp0L = \n",
    "vpL = \n",
    "vdpL = \n",
    "KL = \n",
    "nL = \n",
    "\n",
    "vp0T = \n",
    "vpT = \n",
    "vdpT = \n",
    "KT = \n",
    "nT = \n",
    "\n",
    "params = [ vp0L, vpL, vdpL, KL, nL, vp0T, vpT, vdpT, KT, nT ]\n",
    "\n",
    "# s0       PL    PT\n",
    "s0_1 = [     ,     ]\n",
    "s0_2 = [     ,     ]\n",
    "s0_3 = [     ,     ]\n",
    "s0_4 = [     ,     ] \n",
    "\n",
    "s0_vals =  [ s0_1, s0_2, s0_3, s0_4 ]\n",
    "\n",
    "fig = plt.figure(figsize=(6,6))\n",
    "ax = fig.add_subplot()\n",
    "\n",
    "for s0 in s0_vals:\n",
    "    # run simulation with init condition\n",
    "    s_obs = odeint(sdot3, s0, t_obs, args=(params,))\n",
    "\n",
    "    # extract results\n",
    "    PL_obs = s_obs[:,0]\n",
    "    PT_obs = s_obs[:,1]\n",
    "\n",
    "    # plot on phase plot\n",
    "    ax.plot(PT_obs, PL_obs)\n",
    "    \n",
    "ax.set_ylim(0,3000)\n",
    "ax.set_xlim(0,3000)\n",
    "\n",
    "draw_direction_field(ax,sdot3,params,normalise=True )\n",
    "\n",
    "# add code to calculate and draw nullclines below:"
   ]
  },
  {
   "cell_type": "code",
   "execution_count": null,
   "id": "f426a433-ccb1-4535-98dd-b4b38505a946",
   "metadata": {},
   "outputs": [],
   "source": []
  }
 ],
 "metadata": {
  "kernelspec": {
   "display_name": "Python 3 (ipykernel)",
   "language": "python",
   "name": "python3"
  },
  "language_info": {
   "codemirror_mode": {
    "name": "ipython",
    "version": 3
   },
   "file_extension": ".py",
   "mimetype": "text/x-python",
   "name": "python",
   "nbconvert_exporter": "python",
   "pygments_lexer": "ipython3",
   "version": "3.8.17"
  }
 },
 "nbformat": 4,
 "nbformat_minor": 5
}
