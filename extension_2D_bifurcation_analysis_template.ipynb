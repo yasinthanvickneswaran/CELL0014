{
 "cells": [
  {
   "cell_type": "code",
   "execution_count": null,
   "id": "19711ecf-58c3-4e51-94b2-996d82528a68",
   "metadata": {},
   "outputs": [],
   "source": [
    "# copy the code cell below into your Toggle Switch model simulation notebook and complete it"
   ]
  },
  {
   "cell_type": "code",
   "execution_count": null,
   "id": "cb3875d9-722a-449a-ac5c-af8b6f6421ed",
   "metadata": {},
   "outputs": [],
   "source": [
    "# template code for the 2D bifurcation plot analysis\n",
    "\n",
    "# plot 2c on Toggle Switch paper shows results across\n",
    "# a range of kmL and kmT values on log scales. \n",
    "# we can use np.logspace() to create a set of \n",
    "# values that will be equally spaced on a log plot\n",
    "\n",
    "# start with num_vals = 10\n",
    "# so 10x10 grid points will be plotted\n",
    "# when code is working you can increase (e.g. to 40)\n",
    "# to cover more gridpoints\n",
    "num_vals = 10\n",
    "\n",
    "# create kmL and kmT values ranging\n",
    "# from 10^0 to 10^3, i.e. spanning from 1 to 1000\n",
    "kmL_vals = np.logspace(0,3,num_vals)\n",
    "kmT_vals = np.logspace(0,3,num_vals)\n",
    "\n",
    "# make figure that the results will be plotted into\n",
    "fig = plt.figure(figsize=(4,4))\n",
    "ax = fig.add_subplot()\n",
    "ax.set_xlabel(\"kmL\")\n",
    "ax.set_ylabel(\"kmT\")\n",
    "\n",
    "# loop over the different kmL and kmT values\n",
    "# to examine each grid point on the plot\n",
    "for kmL in kmL_vals:\n",
    "    for kmT in kmT_vals:        \n",
    "        \n",
    "        # load the kmL and kmT values into the parameter values\n",
    "        params = [km0L, kmL, KL, nL, kdmL, kpL, kdpL, km0T, kmT, KT, nT, kdmT, kpT, kdpT]\n",
    "\n",
    "        # add code to run simulation (starting close to LacI high steady state)\n",
    "\n",
    "\n",
    "        \n",
    "        # store final PL state\n",
    "        sim1_PL_ss = \n",
    "\n",
    "\n",
    "        # add code to run simulation (starting close to TetR high steady state)\n",
    "\n",
    "\n",
    "        \n",
    "        # store final PL state\n",
    "        sim2_PL_ss = \n",
    "\n",
    "                \n",
    "        # compare the steady state values reached\n",
    "\n",
    "        # if agree within some threshold (here set to 0.1) both simulations\n",
    "        # ended in the same steady state \n",
    "        if abs(sim1_PL_ss - sim2_PL_ss) < 0.1:\n",
    "            # plot a red cross on the the kmL / kmT plot\n",
    "            ax.plot(kmL, kmT, 'rx')\n",
    "        # else if they are not the same the simulations\n",
    "        # ended in different steady states (bistable)\n",
    "        else \n",
    "            # plot a black cross on the the kmL / kmT plot\n",
    "            ax.plot(kmL, kmT, 'kx')\n",
    "\n",
    "ax.set_xscale('log')\n",
    "ax.set_yscale('log')"
   ]
  }
 ],
 "metadata": {
  "kernelspec": {
   "display_name": "Python 3 (ipykernel)",
   "language": "python",
   "name": "python3"
  },
  "language_info": {
   "codemirror_mode": {
    "name": "ipython",
    "version": 3
   },
   "file_extension": ".py",
   "mimetype": "text/x-python",
   "name": "python",
   "nbconvert_exporter": "python",
   "pygments_lexer": "ipython3",
   "version": "3.8.17"
  }
 },
 "nbformat": 4,
 "nbformat_minor": 5
}
