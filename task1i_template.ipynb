{
 "cells": [
  {
   "cell_type": "code",
   "execution_count": 2,
   "id": "15c53246-f9fb-4930-9f7c-1515accb3239",
   "metadata": {},
   "outputs": [],
   "source": [
    "import numpy as np\n",
    "import matplotlib.pyplot as plt\n",
    "from scipy.integrate import odeint"
   ]
  },
  {
   "cell_type": "code",
   "execution_count": 6,
   "id": "cc7cffcf-d0c6-475b-87a0-1ffa44e9352e",
   "metadata": {},
   "outputs": [],
   "source": [
    "def sdot1(s,t,params):\n",
    "    M, P, Pr = s\n",
    "    km0, km, K, n, kdm, kp, kdp = params\n",
    "\n",
    "    rate_M_prod = \n",
    "    rate_M_loss = \n",
    "\n",
    "    rate_P_prod = \n",
    "    rate_P_loss = \n",
    "    \n",
    "    dM = rate_M_prod - rate_M_loss\n",
    "    dP = rate_P_prod - rate_P_loss\n",
    "    dPr = 0 # initially assume repressor level steady\n",
    "    \n",
    "    ds = [dM, dP, dPr]\n",
    "    return ds\n",
    "\n",
    "# define parameter values\n",
    "km0 = \n",
    "km = \n",
    "K = \n",
    "n = \n",
    "kdm = \n",
    "kp = \n",
    "kdp = \n",
    "\n",
    "params = [km0, km, K, n, kdm, kp, kdp]\n",
    "\n",
    "# define initial conditions\n",
    "M0 = 0\n",
    "P0 = 0\n",
    "Pr0 = 0\n",
    "\n",
    "s0 = [M0, P0, Pr0]\n",
    "\n",
    "# define time observation points\n",
    "t_start = 0\n",
    "t_end = 1000\n",
    "\n",
    "t_obs = np.arange(t_start, t_end+0.1, 1)\n",
    "\n",
    "\n",
    "# run simulation\n",
    "s_obs = odeint(sdot1, s0, t_obs, args=(params,))\n",
    "\n",
    "# extract the observations\n",
    "M_obs = s_obs[:,0]\n",
    "P_obs = s_obs[:,1]"
   ]
  },
  {
   "cell_type": "code",
   "execution_count": null,
   "id": "34b887ec-a3e4-44a7-b9c1-ad40c0f08fd4",
   "metadata": {},
   "outputs": [],
   "source": []
  }
 ],
 "metadata": {
  "kernelspec": {
   "display_name": "Python 3 (ipykernel)",
   "language": "python",
   "name": "python3"
  },
  "language_info": {
   "codemirror_mode": {
    "name": "ipython",
    "version": 3
   },
   "file_extension": ".py",
   "mimetype": "text/x-python",
   "name": "python",
   "nbconvert_exporter": "python",
   "pygments_lexer": "ipython3",
   "version": "3.8.17"
  }
 },
 "nbformat": 4,
 "nbformat_minor": 5
}
